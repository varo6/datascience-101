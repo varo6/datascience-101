{
 "cells": [
  {
   "cell_type": "markdown",
   "metadata": {},
   "source": [
    "# La librería `pandas`\n",
    "\n",
    "`pandas` es una librería para el análisis de datos en\n",
    "Python, que fue desarrollada por Wes McKynney in 2008. Es uno de los\n",
    "proyectos apoyados por [NumFOCUS](https://numfocus.org), una asociación\n",
    "que fomenta proyectos y prácticas open source.\n",
    "\n",
    "Destaca por su gran riqueza de procedimientos para manipular y procesar\n",
    "datos, en particular datos con una componente temporal y su integración\n",
    "con numpy.\n",
    "\n",
    "Para usar `pandas` en un programa o en un notebook, lo importamos con su\n",
    "alias."
   ]
  },
  {
   "cell_type": "code",
   "execution_count": 2,
   "metadata": {},
   "outputs": [],
   "source": [
    "import pandas as pd"
   ]
  },
  {
   "cell_type": "markdown",
   "metadata": {},
   "source": [
    "# Los dos objetos básicos en pandas\n",
    "\n",
    "`pandas` define dos clases básicas\n",
    "\n",
    "-  `Series`: corresponden a vectores de datos.\n",
    "\n",
    "    -   Es un vector unidimensional.\n",
    "\n",
    "    -   Tienen un \"índice\" (`index`) que contiene etiquetas para cada\n",
    "        dato. Las etiquetas no tienen por que ser únicas.\n",
    "\n",
    "    -   Tienen opcionalmente un nombre (`name`).\n",
    "\n",
    "-   `DataFrame`: Es una estructura 2D que contiene conjuntos de datos,\n",
    "\n",
    "    -   Se puede pensar en una tabla bidimensional, donde cada fila\n",
    "        representa un individuo, cada columna es un que corresponde a\n",
    "        una variable o característica del individuo.\n",
    "\n",
    "    -   Un tiene un \"índice\" (`index`) con etiquetas asociadas a cada\n",
    "        individuo. Las etiquetas no tienen por qué ser únicas.\n",
    "\n",
    "    -   Cada columna tiene un nombre.\n",
    "\n",
    "    -   Podemos ver un `DataFrame` como un `dict` de `Series`: las\n",
    "        claves son los nombres de las columnas, sus valores son las\n",
    "        `Series`.\n",
    "\n",
    "# Series\n",
    "La manera general de crear un Series es `pd.Series(data, index=None)`\n",
    "\n",
    "-   `data` puede ser un vector o iterable (por ejemplo una lista), un o\n",
    "    un valor escalar.\n",
    "\n",
    "-   Si no se proporciona un valor para `index`, se usarán enteros por defecto\n",
    "\n",
    "-   Admite el argumento opcional `name`.\n",
    "\n",
    "Ejemplos:"
   ]
  },
  {
   "cell_type": "code",
   "execution_count": null,
   "metadata": {},
   "outputs": [],
   "source": [
    "import pandas as pd\n",
    "\n",
    "edades = pd.Series(\n",
    "    {\n",
    "        \"Pedro\": 28,\n",
    "        \"maria\":22,\n",
    "    },\n",
    "    name=\"edad\"\n",
    ")\n",
    "\n",
    "edades = pd.Series(\n",
    "    [20,21,22],\n",
    "    index=[\"Maria\",\"Sexo\",\"asd\"],\n",
    "    name=\"edad\"\n",
    ")\n",
    "\n",
    "esperanza_adicional = pd.Series(\n",
    "    [51.4,64,45],\n",
    "    index=[\"Maria\",\"Sexo\",\"asd\"],\n",
    "    name=\"esperanza\"\n",
    ")\n",
    "\n",
    "print(edades)\n",
    "print(esperanza_adicional)\n",
    "sum = edades + esperanza_adicional\n",
    "print(sum)\n"
   ]
  },
  {
   "cell_type": "markdown",
   "metadata": {},
   "source": [
    "## Índices en Pandas Series\n",
    "\n",
    "Los `index` son un concepto clave en `Series` o , en particular porque\n",
    "sirven para \"alinear\" las series cuando se combinan a través de\n",
    "operaciones, como sumas, restas, etc\\..."
   ]
  },
  {
   "cell_type": "code",
   "execution_count": null,
   "metadata": {},
   "outputs": [],
   "source": [
    "\n",
    "s1 = pd.Series(\n",
    "    [3,2.5,-1,18],\n",
    "    index=[\"a\",\"b\",\"c\",\"d\"]\n",
    ")\n",
    "s2 = pd.Series(\n",
    "    [3,2.5,-1],\n",
    "    index=[\"b\",\"c\",\"d\"]\n",
    ")\n",
    "print(s1+s2)"
   ]
  },
  {
   "cell_type": "markdown",
   "metadata": {},
   "source": [
    "### Ejemplo con índices duplicados\n"
   ]
  },
  {
   "cell_type": "code",
   "execution_count": null,
   "metadata": {},
   "outputs": [],
   "source": []
  },
  {
   "cell_type": "markdown",
   "metadata": {},
   "source": [
    "Podéis encontrar en la referencia de la API de Pandas todos los\n",
    "atributos y métodos asociados a un [`Serie`](https://pandas.pydata.org/pandas-docs/stable/reference/api/pandas.Series.html)\n",
    "## Métodos de Pandas Series\n",
    "\n",
    "Estos métodos permiten aplicar una operación al conjunto de la Serie,\n",
    "sin tener que hacer un bucle recorriendo sus elementos.\\\n",
    "Por ejemplo:"
   ]
  },
  {
   "cell_type": "code",
   "execution_count": null,
   "metadata": {},
   "outputs": [],
   "source": [
    "s1.ab"
   ]
  },
  {
   "cell_type": "markdown",
   "metadata": {},
   "source": [
    "# Data frames\n",
    "La estructura de datos principal de pandas La manera general de crear un\n",
    "DataFrame es `pd.DataFrame(data, index=None, columns=None)`\n",
    "-   `data` puede ser un array numpy, un iterable (por ejemplo una lista\n",
    "    de listas), un `Series`.\n",
    "\n",
    "-   Si no se proporciona un valor para `index`, se usarán enteros por defecto\n",
    "\n",
    "-   El argumento `columns` indica las etiquetas para las columnas.\n",
    "\n",
    "-   `data` puede ser un `dict` donde las pares `key`:`value` son etiqueta:valores de\n",
    "    cada columna.\n",
    "\n",
    "Ejemplos:"
   ]
  },
  {
   "cell_type": "code",
   "execution_count": 7,
   "metadata": {},
   "outputs": [
    {
     "name": "stdout",
     "output_type": "stream",
     "text": [
      "     0  1\n",
      "a  3.0  r\n",
      "b  2.3  a\n",
      "c  4.0  b\n"
     ]
    }
   ],
   "source": [
    "\n",
    "df1 = pd.DataFrame(\n",
    "[    [3,\"r\"],\n",
    "    [2.3,\"a\"],\n",
    "    [4,\"b\"],\n",
    "],\n",
    "    index=[\"a\",\"b\",\"c\"],\n",
    ")\n",
    "print(df1)"
   ]
  },
  {
   "cell_type": "markdown",
   "metadata": {},
   "source": [
    "también podría ser un `dict` de `Series` , lo que permite más flexibilidad con los\n",
    "índices:"
   ]
  },
  {
   "cell_type": "code",
   "execution_count": 9,
   "metadata": {},
   "outputs": [
    {
     "name": "stdout",
     "output_type": "stream",
     "text": [
      "     x color\n",
      "a  3.0     r\n",
      "b  2.5     g\n",
      "c -1.0     b\n"
     ]
    }
   ],
   "source": [
    "df1 = pd.DataFrame(\n",
    "    {\n",
    "        \"x\":pd.Series([3,2.5,-1], index=[\"a\",\"b\",\"c\"]),\n",
    "        \"color\": pd.Series([\"r\",\"g\",\"b\"], index=[\"a\",\"b\",\"c\"])  \n",
    "    }\n",
    ")\n",
    "print(df1)\n",
    "# Columnas = x y color"
   ]
  },
  {
   "cell_type": "markdown",
   "metadata": {},
   "source": [
    "## Métodos y atributos útiles con DataFrame \n",
    "Si df es un pandas DataFrame\n",
    "\n",
    "### Métodos útiles para hacerse una idea del conjunto:\n",
    "- `df.info()`: número de filas, columnas y tipo de datos \n",
    "- `df.describe()`: resumen numérico de cada columna \n",
    "- `df.head(7)`: las 7 primeras filas \n",
    "- `df.tail(7)`:  las 7 últimas filas \n",
    "### Atributos útiles:\n",
    "- `df.shape`: Dimensión del conjunto \n",
    "- `df.columns`:  etiquetas de las columnas \n",
    "- `df.index`: etiquetas de las filas\n",
    "- `df.values` valores como ndarray de numpy\n",
    "-  `df.dtypes` tipos de datos de cada columna"
   ]
  },
  {
   "cell_type": "code",
   "execution_count": 10,
   "metadata": {},
   "outputs": [
    {
     "name": "stdout",
     "output_type": "stream",
     "text": [
      "<class 'pandas.core.frame.DataFrame'>\n",
      "Index: 3 entries, a to c\n",
      "Data columns (total 2 columns):\n",
      " #   Column  Non-Null Count  Dtype  \n",
      "---  ------  --------------  -----  \n",
      " 0   x       3 non-null      float64\n",
      " 1   color   3 non-null      object \n",
      "dtypes: float64(1), object(1)\n",
      "memory usage: 72.0+ bytes\n"
     ]
    }
   ],
   "source": [
    "df1.info()"
   ]
  },
  {
   "cell_type": "markdown",
   "metadata": {},
   "source": [
    "# Leeremos siempre los datos desde una fuente externa\n",
    "\n",
    "En todas las prácticas leeremos los datos desde una fuente externa.\n",
    "\n",
    "-   Desde un fichero local que nos habremos descargado\n",
    "\n",
    "-   Desde un fichero situado en internet\n",
    "\n",
    "-   Desde una API de un servicio\n",
    "\n",
    "Para leer desde un archivo local, usaremos casi siempre `pd.read_csv`, que permite\n",
    "muchísima flexibilidad.\n",
    "\n",
    "utiliza las primeras líneas del fichero para adivinar su estructura. Por\n",
    "ejemplo, infiere cómo están separados las columnas, si tiene cabecera,\n",
    "etc. Por lo tanto, en muchos casos, bastará con\n",
    "\n",
    "`pd.read_csv(<camino hasta el fichero de datos>)`\n",
    "\n",
    "Por ejemplo"
   ]
  },
  {
   "cell_type": "code",
   "execution_count": null,
   "metadata": {},
   "outputs": [],
   "source": []
  },
  {
   "cell_type": "markdown",
   "metadata": {},
   "source": [
    "## Parámetros más útiles de `pd.read_csv`\n",
    "En el caso en que tuvieramos que especificar parámetros porque no ha adivinado correctamente la estructura del\n",
    "fichero, éstos son útiles:\n",
    "\n",
    "- `sep`: un `str` que contiene el caracter que delimita las columnas\n",
    "\n",
    "-  `skiprows`: un entero, número de filas que salta al inicio del fichero.\n",
    "    También puede ser una lista de los índices de filas.\n",
    "\n",
    "-   `encoding`: la codificación del fichero. Normalmente será 'utf-8', pero podría\n",
    "    ser 'latin-1'.\n",
    "\n",
    "-   `thousands`: un `str` que contiene el caracter que separa los miles\n",
    "\n",
    "-   `dec`: un `str` que contiene el caracter que hace de separador decimal.\n",
    "\n",
    "Por ejemplo"
   ]
  },
  {
   "cell_type": "code",
   "execution_count": null,
   "metadata": {},
   "outputs": [],
   "source": []
  },
  {
   "cell_type": "markdown",
   "metadata": {},
   "source": [
    "## Las operaciones más frecuentes implican trabajar con subconjuntos\n",
    "Esos subconjuntos de un DataFrame pueden ser de diferentes tipos:\n",
    "\n",
    "-   Extraigo un conjunto de columnas relevantes, descartando otras.\n",
    "-   Me quedo con un subconjunto de filas que cumplen un determinado\n",
    "    criterio\n",
    "-   Una combinación de las dos opciones anteriores\n",
    "\n",
    "### Extraer columnas\n",
    "Para extraer un conjunto de columnas relevantes La manera más sencilla\n",
    "es indicar entre llaves una etiqueta o una lista de las etiquetas de\n",
    "columnas que deseo extraer\n"
   ]
  },
  {
   "cell_type": "markdown",
   "metadata": {},
   "source": [
    "Para seleccionar solamente una columna:\n"
   ]
  },
  {
   "cell_type": "code",
   "execution_count": 5,
   "metadata": {},
   "outputs": [],
   "source": [
    "import numpy as np\n",
    "import pandas as pd"
   ]
  },
  {
   "cell_type": "code",
   "execution_count": 10,
   "metadata": {},
   "outputs": [
    {
     "data": {
      "text/html": [
       "<div>\n",
       "<style scoped>\n",
       "    .dataframe tbody tr th:only-of-type {\n",
       "        vertical-align: middle;\n",
       "    }\n",
       "\n",
       "    .dataframe tbody tr th {\n",
       "        vertical-align: top;\n",
       "    }\n",
       "\n",
       "    .dataframe thead th {\n",
       "        text-align: right;\n",
       "    }\n",
       "</style>\n",
       "<table border=\"1\" class=\"dataframe\">\n",
       "  <thead>\n",
       "    <tr style=\"text-align: right;\">\n",
       "      <th></th>\n",
       "      <th>x1</th>\n",
       "      <th>x2</th>\n",
       "      <th>x3</th>\n",
       "      <th>y</th>\n",
       "    </tr>\n",
       "  </thead>\n",
       "  <tbody>\n",
       "    <tr>\n",
       "      <th>0</th>\n",
       "      <td>4.2</td>\n",
       "      <td>2.1</td>\n",
       "      <td>2.5</td>\n",
       "      <td>a</td>\n",
       "    </tr>\n",
       "    <tr>\n",
       "      <th>1</th>\n",
       "      <td>0.7</td>\n",
       "      <td>-3.7</td>\n",
       "      <td>-2.3</td>\n",
       "      <td>b</td>\n",
       "    </tr>\n",
       "    <tr>\n",
       "      <th>2</th>\n",
       "      <td>-2.4</td>\n",
       "      <td>-2.1</td>\n",
       "      <td>4.0</td>\n",
       "      <td>b</td>\n",
       "    </tr>\n",
       "    <tr>\n",
       "      <th>3</th>\n",
       "      <td>0.3</td>\n",
       "      <td>-1.5</td>\n",
       "      <td>1.9</td>\n",
       "      <td>c</td>\n",
       "    </tr>\n",
       "  </tbody>\n",
       "</table>\n",
       "</div>"
      ],
      "text/plain": [
       "    x1   x2   x3  y\n",
       "0  4.2  2.1  2.5  a\n",
       "1  0.7 -3.7 -2.3  b\n",
       "2 -2.4 -2.1  4.0  b\n",
       "3  0.3 -1.5  1.9  c"
      ]
     },
     "execution_count": 10,
     "metadata": {},
     "output_type": "execute_result"
    }
   ],
   "source": [
    "rng = np.random.default_rng(314)\n",
    "datos = pd.DataFrame(\n",
    "    np.round(rng.uniform(-5,5,(4,3)),1),\n",
    "    columns = [\"x1\",\"x2\",\"x3\"]\n",
    ")\n",
    "datos[\"y\"] = [\"a\",\"b\",\"b\", \"c\"]\n",
    "datos\n",
    "    "
   ]
  },
  {
   "cell_type": "markdown",
   "metadata": {},
   "source": [
    "Para seleccionar varias columnas\n"
   ]
  },
  {
   "cell_type": "code",
   "execution_count": 15,
   "metadata": {},
   "outputs": [
    {
     "data": {
      "text/html": [
       "<div>\n",
       "<style scoped>\n",
       "    .dataframe tbody tr th:only-of-type {\n",
       "        vertical-align: middle;\n",
       "    }\n",
       "\n",
       "    .dataframe tbody tr th {\n",
       "        vertical-align: top;\n",
       "    }\n",
       "\n",
       "    .dataframe thead th {\n",
       "        text-align: right;\n",
       "    }\n",
       "</style>\n",
       "<table border=\"1\" class=\"dataframe\">\n",
       "  <thead>\n",
       "    <tr style=\"text-align: right;\">\n",
       "      <th></th>\n",
       "      <th>x2</th>\n",
       "      <th>x3</th>\n",
       "    </tr>\n",
       "  </thead>\n",
       "  <tbody>\n",
       "    <tr>\n",
       "      <th>0</th>\n",
       "      <td>2.1</td>\n",
       "      <td>2.5</td>\n",
       "    </tr>\n",
       "    <tr>\n",
       "      <th>1</th>\n",
       "      <td>-3.7</td>\n",
       "      <td>-2.3</td>\n",
       "    </tr>\n",
       "    <tr>\n",
       "      <th>2</th>\n",
       "      <td>-2.1</td>\n",
       "      <td>4.0</td>\n",
       "    </tr>\n",
       "    <tr>\n",
       "      <th>3</th>\n",
       "      <td>-1.5</td>\n",
       "      <td>1.9</td>\n",
       "    </tr>\n",
       "  </tbody>\n",
       "</table>\n",
       "</div>"
      ],
      "text/plain": [
       "    x2   x3\n",
       "0  2.1  2.5\n",
       "1 -3.7 -2.3\n",
       "2 -2.1  4.0\n",
       "3 -1.5  1.9"
      ]
     },
     "execution_count": 15,
     "metadata": {},
     "output_type": "execute_result"
    }
   ],
   "source": [
    "datos[[\"x2\",\"x3\"]]"
   ]
  },
  {
   "cell_type": "code",
   "execution_count": null,
   "metadata": {},
   "outputs": [],
   "source": []
  },
  {
   "cell_type": "markdown",
   "metadata": {},
   "source": [
    "## Extraer filas basándose en un criterio\n",
    "Para seleccionar filas basándose en un criterio lógico La manera más\n",
    "sencilla es indicar entre corchetes un objeto de tipo vector (lista, array\n",
    "numpy, Series) booleano (True o False)\n",
    "\n",
    "Por ejemplo:\n"
   ]
  },
  {
   "cell_type": "code",
   "execution_count": 13,
   "metadata": {},
   "outputs": [
    {
     "data": {
      "text/html": [
       "<div>\n",
       "<style scoped>\n",
       "    .dataframe tbody tr th:only-of-type {\n",
       "        vertical-align: middle;\n",
       "    }\n",
       "\n",
       "    .dataframe tbody tr th {\n",
       "        vertical-align: top;\n",
       "    }\n",
       "\n",
       "    .dataframe thead th {\n",
       "        text-align: right;\n",
       "    }\n",
       "</style>\n",
       "<table border=\"1\" class=\"dataframe\">\n",
       "  <thead>\n",
       "    <tr style=\"text-align: right;\">\n",
       "      <th></th>\n",
       "      <th>x2</th>\n",
       "      <th>x3</th>\n",
       "    </tr>\n",
       "  </thead>\n",
       "  <tbody>\n",
       "    <tr>\n",
       "      <th>0</th>\n",
       "      <td>2.1</td>\n",
       "      <td>2.5</td>\n",
       "    </tr>\n",
       "    <tr>\n",
       "      <th>1</th>\n",
       "      <td>-3.7</td>\n",
       "      <td>-2.3</td>\n",
       "    </tr>\n",
       "    <tr>\n",
       "      <th>2</th>\n",
       "      <td>-2.1</td>\n",
       "      <td>4.0</td>\n",
       "    </tr>\n",
       "    <tr>\n",
       "      <th>3</th>\n",
       "      <td>-1.5</td>\n",
       "      <td>1.9</td>\n",
       "    </tr>\n",
       "  </tbody>\n",
       "</table>\n",
       "</div>"
      ],
      "text/plain": [
       "    x2   x3\n",
       "0  2.1  2.5\n",
       "1 -3.7 -2.3\n",
       "2 -2.1  4.0\n",
       "3 -1.5  1.9"
      ]
     },
     "execution_count": 13,
     "metadata": {},
     "output_type": "execute_result"
    }
   ],
   "source": []
  },
  {
   "cell_type": "code",
   "execution_count": 16,
   "metadata": {},
   "outputs": [
    {
     "data": {
      "text/html": [
       "<div>\n",
       "<style scoped>\n",
       "    .dataframe tbody tr th:only-of-type {\n",
       "        vertical-align: middle;\n",
       "    }\n",
       "\n",
       "    .dataframe tbody tr th {\n",
       "        vertical-align: top;\n",
       "    }\n",
       "\n",
       "    .dataframe thead th {\n",
       "        text-align: right;\n",
       "    }\n",
       "</style>\n",
       "<table border=\"1\" class=\"dataframe\">\n",
       "  <thead>\n",
       "    <tr style=\"text-align: right;\">\n",
       "      <th></th>\n",
       "      <th>x1</th>\n",
       "      <th>x2</th>\n",
       "      <th>x3</th>\n",
       "      <th>y</th>\n",
       "    </tr>\n",
       "  </thead>\n",
       "  <tbody>\n",
       "    <tr>\n",
       "      <th>1</th>\n",
       "      <td>0.7</td>\n",
       "      <td>-3.7</td>\n",
       "      <td>-2.3</td>\n",
       "      <td>b</td>\n",
       "    </tr>\n",
       "    <tr>\n",
       "      <th>2</th>\n",
       "      <td>-2.4</td>\n",
       "      <td>-2.1</td>\n",
       "      <td>4.0</td>\n",
       "      <td>b</td>\n",
       "    </tr>\n",
       "  </tbody>\n",
       "</table>\n",
       "</div>"
      ],
      "text/plain": [
       "    x1   x2   x3  y\n",
       "1  0.7 -3.7 -2.3  b\n",
       "2 -2.4 -2.1  4.0  b"
      ]
     },
     "execution_count": 16,
     "metadata": {},
     "output_type": "execute_result"
    }
   ],
   "source": [
    "datos[[False,True, True, False]]"
   ]
  },
  {
   "cell_type": "markdown",
   "metadata": {},
   "source": [
    "Podemos proporcionar un Series calculado\n"
   ]
  },
  {
   "cell_type": "code",
   "execution_count": 17,
   "metadata": {},
   "outputs": [
    {
     "data": {
      "text/html": [
       "<div>\n",
       "<style scoped>\n",
       "    .dataframe tbody tr th:only-of-type {\n",
       "        vertical-align: middle;\n",
       "    }\n",
       "\n",
       "    .dataframe tbody tr th {\n",
       "        vertical-align: top;\n",
       "    }\n",
       "\n",
       "    .dataframe thead th {\n",
       "        text-align: right;\n",
       "    }\n",
       "</style>\n",
       "<table border=\"1\" class=\"dataframe\">\n",
       "  <thead>\n",
       "    <tr style=\"text-align: right;\">\n",
       "      <th></th>\n",
       "      <th>x1</th>\n",
       "      <th>x2</th>\n",
       "      <th>x3</th>\n",
       "      <th>y</th>\n",
       "    </tr>\n",
       "  </thead>\n",
       "  <tbody>\n",
       "    <tr>\n",
       "      <th>1</th>\n",
       "      <td>0.7</td>\n",
       "      <td>-3.7</td>\n",
       "      <td>-2.3</td>\n",
       "      <td>b</td>\n",
       "    </tr>\n",
       "    <tr>\n",
       "      <th>2</th>\n",
       "      <td>-2.4</td>\n",
       "      <td>-2.1</td>\n",
       "      <td>4.0</td>\n",
       "      <td>b</td>\n",
       "    </tr>\n",
       "  </tbody>\n",
       "</table>\n",
       "</div>"
      ],
      "text/plain": [
       "    x1   x2   x3  y\n",
       "1  0.7 -3.7 -2.3  b\n",
       "2 -2.4 -2.1  4.0  b"
      ]
     },
     "execution_count": 17,
     "metadata": {},
     "output_type": "execute_result"
    }
   ],
   "source": [
    "datos[datos[\"y\"]==\"b\"]"
   ]
  },
  {
   "cell_type": "markdown",
   "metadata": {},
   "source": [
    "## Construimos un dataframe de ejemplo, usando valores aleatorios\n",
    "Usamos el generador de números seudo aleatorios de `numpy`, fijando su semilla"
   ]
  },
  {
   "cell_type": "code",
   "execution_count": 1,
   "metadata": {},
   "outputs": [
    {
     "data": {
      "text/html": [
       "<div>\n",
       "<style scoped>\n",
       "    .dataframe tbody tr th:only-of-type {\n",
       "        vertical-align: middle;\n",
       "    }\n",
       "\n",
       "    .dataframe tbody tr th {\n",
       "        vertical-align: top;\n",
       "    }\n",
       "\n",
       "    .dataframe thead th {\n",
       "        text-align: right;\n",
       "    }\n",
       "</style>\n",
       "<table border=\"1\" class=\"dataframe\">\n",
       "  <thead>\n",
       "    <tr style=\"text-align: right;\">\n",
       "      <th></th>\n",
       "      <th>x1</th>\n",
       "      <th>x2</th>\n",
       "      <th>x3</th>\n",
       "      <th>y</th>\n",
       "    </tr>\n",
       "  </thead>\n",
       "  <tbody>\n",
       "    <tr>\n",
       "      <th>0</th>\n",
       "      <td>4.2</td>\n",
       "      <td>2.1</td>\n",
       "      <td>2.5</td>\n",
       "      <td>a</td>\n",
       "    </tr>\n",
       "    <tr>\n",
       "      <th>1</th>\n",
       "      <td>0.7</td>\n",
       "      <td>-3.7</td>\n",
       "      <td>-2.3</td>\n",
       "      <td>b</td>\n",
       "    </tr>\n",
       "    <tr>\n",
       "      <th>2</th>\n",
       "      <td>-2.4</td>\n",
       "      <td>-2.1</td>\n",
       "      <td>4.0</td>\n",
       "      <td>b</td>\n",
       "    </tr>\n",
       "    <tr>\n",
       "      <th>3</th>\n",
       "      <td>0.3</td>\n",
       "      <td>-1.5</td>\n",
       "      <td>1.9</td>\n",
       "      <td>c</td>\n",
       "    </tr>\n",
       "  </tbody>\n",
       "</table>\n",
       "</div>"
      ],
      "text/plain": [
       "    x1   x2   x3  y\n",
       "0  4.2  2.1  2.5  a\n",
       "1  0.7 -3.7 -2.3  b\n",
       "2 -2.4 -2.1  4.0  b\n",
       "3  0.3 -1.5  1.9  c"
      ]
     },
     "execution_count": 1,
     "metadata": {},
     "output_type": "execute_result"
    }
   ],
   "source": [
    "import numpy as np\n",
    "rng = np.random.default_rng(314)\n",
    "x = np.round(rng.uniform(-5, 5, (4, 3)), 1)\n",
    "datos = pd.DataFrame(\n",
    "    x,\n",
    "    columns=['x1', 'x2', 'x3']\n",
    "    )\n",
    "datos['y'] = ['a', 'b', 'b', 'c']\n",
    "datos"
   ]
  },
  {
   "cell_type": "markdown",
   "metadata": {},
   "source": [
    "## La manera más general de seleccionar filas y/o columnas\n",
    "Los dos métodos más flexibles y generales para seleccionar filas y/o\n",
    "columnas\n",
    "\n",
    "-   El método `loc` permite seleccionar filas y/o columnas a través de\n",
    "    las etiquetas (index o nombres de columnas) o usando vectores\n",
    "    booleanos\n",
    "\n",
    "-   El método `iloc` permite seleccionar filas y/o columnas a través de\n",
    "    sus posiciones (filas o columnas) o usando vectores booleanos\n",
    "\n",
    "### El método `loc[]`\n",
    "El método `loc[]` Se aplica con corchetes, separamos la especificación de\n",
    "filas y columnas por una coma.\n",
    "\n",
    "`df.loc[especificacion_filas, especificacion_columnas]`\n",
    "\n",
    "-   Si no hay especificación para filas, usamos \":\" para indicar que las\n",
    "    seleccionamos todas:\n"
   ]
  },
  {
   "cell_type": "code",
   "execution_count": 18,
   "metadata": {},
   "outputs": [
    {
     "data": {
      "text/html": [
       "<div>\n",
       "<style scoped>\n",
       "    .dataframe tbody tr th:only-of-type {\n",
       "        vertical-align: middle;\n",
       "    }\n",
       "\n",
       "    .dataframe tbody tr th {\n",
       "        vertical-align: top;\n",
       "    }\n",
       "\n",
       "    .dataframe thead th {\n",
       "        text-align: right;\n",
       "    }\n",
       "</style>\n",
       "<table border=\"1\" class=\"dataframe\">\n",
       "  <thead>\n",
       "    <tr style=\"text-align: right;\">\n",
       "      <th></th>\n",
       "      <th>x1</th>\n",
       "      <th>y</th>\n",
       "    </tr>\n",
       "  </thead>\n",
       "  <tbody>\n",
       "    <tr>\n",
       "      <th>0</th>\n",
       "      <td>4.2</td>\n",
       "      <td>a</td>\n",
       "    </tr>\n",
       "    <tr>\n",
       "      <th>2</th>\n",
       "      <td>-2.4</td>\n",
       "      <td>b</td>\n",
       "    </tr>\n",
       "  </tbody>\n",
       "</table>\n",
       "</div>"
      ],
      "text/plain": [
       "    x1  y\n",
       "0  4.2  a\n",
       "2 -2.4  b"
      ]
     },
     "execution_count": 18,
     "metadata": {},
     "output_type": "execute_result"
    }
   ],
   "source": [
    "# Extraigo solo las filas 0 y 2 y columnas x1 y y \n",
    "datos.loc[[0,2],[\"x1\",\"y\"]]\n"
   ]
  },
  {
   "cell_type": "markdown",
   "metadata": {},
   "source": [
    " Podemos usar un vector booleano, tanto para filas como para columnas.\n"
   ]
  },
  {
   "cell_type": "code",
   "execution_count": 20,
   "metadata": {},
   "outputs": [
    {
     "data": {
      "text/html": [
       "<div>\n",
       "<style scoped>\n",
       "    .dataframe tbody tr th:only-of-type {\n",
       "        vertical-align: middle;\n",
       "    }\n",
       "\n",
       "    .dataframe tbody tr th {\n",
       "        vertical-align: top;\n",
       "    }\n",
       "\n",
       "    .dataframe thead th {\n",
       "        text-align: right;\n",
       "    }\n",
       "</style>\n",
       "<table border=\"1\" class=\"dataframe\">\n",
       "  <thead>\n",
       "    <tr style=\"text-align: right;\">\n",
       "      <th></th>\n",
       "      <th>y</th>\n",
       "    </tr>\n",
       "  </thead>\n",
       "  <tbody>\n",
       "    <tr>\n",
       "      <th>3</th>\n",
       "      <td>c</td>\n",
       "    </tr>\n",
       "  </tbody>\n",
       "</table>\n",
       "</div>"
      ],
      "text/plain": [
       "   y\n",
       "3  c"
      ]
     },
     "execution_count": 20,
     "metadata": {},
     "output_type": "execute_result"
    }
   ],
   "source": [
    "datos.loc[[False,False,False,True],[False,False,False,True]]"
   ]
  },
  {
   "cell_type": "markdown",
   "metadata": {},
   "source": [
    "O combinar vectores booleanos con especificación de etiquetas\n"
   ]
  },
  {
   "cell_type": "markdown",
   "metadata": {},
   "source": [
    "### El método `iloc[]`\n",
    "El método `iloc[]` Se aplica con corchetes, separamos la especificación de\n",
    "filas y columnas por una coma. Utilizamos sus posiciones para\n",
    "seleccionar filas o columnas. No admite vectores booleanos.\n"
   ]
  },
  {
   "cell_type": "code",
   "execution_count": 22,
   "metadata": {},
   "outputs": [
    {
     "data": {
      "text/plain": [
       "0    2.1\n",
       "1   -3.7\n",
       "Name: x2, dtype: float64"
      ]
     },
     "execution_count": 22,
     "metadata": {},
     "output_type": "execute_result"
    }
   ],
   "source": [
    "# iloc va con numeros de fila o columna\n",
    "datos.iloc[[0,1], 1]"
   ]
  },
  {
   "cell_type": "markdown",
   "metadata": {},
   "source": [
    "### El método `loc[]` trabaja con etiquetas\n",
    "\n",
    "El método `loc` trabaja con etiquetas, por lo que es necesario ser\n",
    "cautos si el index de nuestro DataFrame son los enteros. Considerad el\n",
    "DataFrame `datos_2` que corresponde a `datos` con los valores ordenados según los valores de `x2`:\n"
   ]
  },
  {
   "cell_type": "code",
   "execution_count": 24,
   "metadata": {},
   "outputs": [
    {
     "data": {
      "text/html": [
       "<div>\n",
       "<style scoped>\n",
       "    .dataframe tbody tr th:only-of-type {\n",
       "        vertical-align: middle;\n",
       "    }\n",
       "\n",
       "    .dataframe tbody tr th {\n",
       "        vertical-align: top;\n",
       "    }\n",
       "\n",
       "    .dataframe thead th {\n",
       "        text-align: right;\n",
       "    }\n",
       "</style>\n",
       "<table border=\"1\" class=\"dataframe\">\n",
       "  <thead>\n",
       "    <tr style=\"text-align: right;\">\n",
       "      <th></th>\n",
       "      <th>x1</th>\n",
       "      <th>x2</th>\n",
       "      <th>x3</th>\n",
       "      <th>y</th>\n",
       "    </tr>\n",
       "  </thead>\n",
       "  <tbody>\n",
       "    <tr>\n",
       "      <th>1</th>\n",
       "      <td>0.7</td>\n",
       "      <td>-3.7</td>\n",
       "      <td>-2.3</td>\n",
       "      <td>b</td>\n",
       "    </tr>\n",
       "    <tr>\n",
       "      <th>2</th>\n",
       "      <td>-2.4</td>\n",
       "      <td>-2.1</td>\n",
       "      <td>4.0</td>\n",
       "      <td>b</td>\n",
       "    </tr>\n",
       "    <tr>\n",
       "      <th>3</th>\n",
       "      <td>0.3</td>\n",
       "      <td>-1.5</td>\n",
       "      <td>1.9</td>\n",
       "      <td>c</td>\n",
       "    </tr>\n",
       "    <tr>\n",
       "      <th>0</th>\n",
       "      <td>4.2</td>\n",
       "      <td>2.1</td>\n",
       "      <td>2.5</td>\n",
       "      <td>a</td>\n",
       "    </tr>\n",
       "  </tbody>\n",
       "</table>\n",
       "</div>"
      ],
      "text/plain": [
       "    x1   x2   x3  y\n",
       "1  0.7 -3.7 -2.3  b\n",
       "2 -2.4 -2.1  4.0  b\n",
       "3  0.3 -1.5  1.9  c\n",
       "0  4.2  2.1  2.5  a"
      ]
     },
     "execution_count": 24,
     "metadata": {},
     "output_type": "execute_result"
    }
   ],
   "source": [
    "datos_2 = datos.sort_values(\"x2\")\n",
    "datos_2"
   ]
  },
  {
   "cell_type": "code",
   "execution_count": 26,
   "metadata": {},
   "outputs": [
    {
     "name": "stdout",
     "output_type": "stream",
     "text": [
      "0.7\n",
      "4.2\n"
     ]
    }
   ],
   "source": [
    "print(datos_2.iloc[0,0])\n",
    "print(datos_2.loc[0,\"x1\"])\n"
   ]
  },
  {
   "cell_type": "markdown",
   "metadata": {},
   "source": [
    "## Cortes (slices) en DataFrames\n",
    "Al igual que para listas, es posible especificar cortes (slices) en\n",
    "DataFrames o Series, usando \":\". El corte incluye las columnas o filas\n",
    "comprendidas entre los dos extremos de la especificación.\n",
    "\n",
    "Añadid al DataFrame `datos` el índice `['a1', 'a2', 'a3', 'a4']` \n"
   ]
  },
  {
   "cell_type": "code",
   "execution_count": 28,
   "metadata": {},
   "outputs": [
    {
     "data": {
      "text/html": [
       "<div>\n",
       "<style scoped>\n",
       "    .dataframe tbody tr th:only-of-type {\n",
       "        vertical-align: middle;\n",
       "    }\n",
       "\n",
       "    .dataframe tbody tr th {\n",
       "        vertical-align: top;\n",
       "    }\n",
       "\n",
       "    .dataframe thead th {\n",
       "        text-align: right;\n",
       "    }\n",
       "</style>\n",
       "<table border=\"1\" class=\"dataframe\">\n",
       "  <thead>\n",
       "    <tr style=\"text-align: right;\">\n",
       "      <th></th>\n",
       "      <th>x1</th>\n",
       "      <th>x2</th>\n",
       "      <th>x3</th>\n",
       "      <th>y</th>\n",
       "    </tr>\n",
       "  </thead>\n",
       "  <tbody>\n",
       "    <tr>\n",
       "      <th>a1</th>\n",
       "      <td>4.2</td>\n",
       "      <td>2.1</td>\n",
       "      <td>2.5</td>\n",
       "      <td>a</td>\n",
       "    </tr>\n",
       "    <tr>\n",
       "      <th>a2</th>\n",
       "      <td>0.7</td>\n",
       "      <td>-3.7</td>\n",
       "      <td>-2.3</td>\n",
       "      <td>b</td>\n",
       "    </tr>\n",
       "    <tr>\n",
       "      <th>a3</th>\n",
       "      <td>-2.4</td>\n",
       "      <td>-2.1</td>\n",
       "      <td>4.0</td>\n",
       "      <td>b</td>\n",
       "    </tr>\n",
       "    <tr>\n",
       "      <th>a4</th>\n",
       "      <td>0.3</td>\n",
       "      <td>-1.5</td>\n",
       "      <td>1.9</td>\n",
       "      <td>c</td>\n",
       "    </tr>\n",
       "  </tbody>\n",
       "</table>\n",
       "</div>"
      ],
      "text/plain": [
       "     x1   x2   x3  y\n",
       "a1  4.2  2.1  2.5  a\n",
       "a2  0.7 -3.7 -2.3  b\n",
       "a3 -2.4 -2.1  4.0  b\n",
       "a4  0.3 -1.5  1.9  c"
      ]
     },
     "execution_count": 28,
     "metadata": {},
     "output_type": "execute_result"
    }
   ],
   "source": [
    "datos.index = [\"a1\",\"a2\",\"a3\",\"a4\"]\n",
    "datos"
   ]
  },
  {
   "cell_type": "markdown",
   "metadata": {},
   "source": [
    "-   Para `loc`, usamos especificación por etiquetas:\n"
   ]
  },
  {
   "cell_type": "code",
   "execution_count": 29,
   "metadata": {},
   "outputs": [
    {
     "data": {
      "text/html": [
       "<div>\n",
       "<style scoped>\n",
       "    .dataframe tbody tr th:only-of-type {\n",
       "        vertical-align: middle;\n",
       "    }\n",
       "\n",
       "    .dataframe tbody tr th {\n",
       "        vertical-align: top;\n",
       "    }\n",
       "\n",
       "    .dataframe thead th {\n",
       "        text-align: right;\n",
       "    }\n",
       "</style>\n",
       "<table border=\"1\" class=\"dataframe\">\n",
       "  <thead>\n",
       "    <tr style=\"text-align: right;\">\n",
       "      <th></th>\n",
       "      <th>x2</th>\n",
       "      <th>x3</th>\n",
       "      <th>y</th>\n",
       "    </tr>\n",
       "  </thead>\n",
       "  <tbody>\n",
       "    <tr>\n",
       "      <th>a2</th>\n",
       "      <td>-3.7</td>\n",
       "      <td>-2.3</td>\n",
       "      <td>b</td>\n",
       "    </tr>\n",
       "    <tr>\n",
       "      <th>a3</th>\n",
       "      <td>-2.1</td>\n",
       "      <td>4.0</td>\n",
       "      <td>b</td>\n",
       "    </tr>\n",
       "  </tbody>\n",
       "</table>\n",
       "</div>"
      ],
      "text/plain": [
       "     x2   x3  y\n",
       "a2 -3.7 -2.3  b\n",
       "a3 -2.1  4.0  b"
      ]
     },
     "execution_count": 29,
     "metadata": {},
     "output_type": "execute_result"
    }
   ],
   "source": [
    "datos.loc[\"a2\":\"a3\",\"x2\":\"y\"]"
   ]
  },
  {
   "cell_type": "markdown",
   "metadata": {},
   "source": [
    "\n",
    "-   Para `iloc`, usamos posiciones\n"
   ]
  },
  {
   "cell_type": "code",
   "execution_count": 30,
   "metadata": {},
   "outputs": [
    {
     "data": {
      "text/html": [
       "<div>\n",
       "<style scoped>\n",
       "    .dataframe tbody tr th:only-of-type {\n",
       "        vertical-align: middle;\n",
       "    }\n",
       "\n",
       "    .dataframe tbody tr th {\n",
       "        vertical-align: top;\n",
       "    }\n",
       "\n",
       "    .dataframe thead th {\n",
       "        text-align: right;\n",
       "    }\n",
       "</style>\n",
       "<table border=\"1\" class=\"dataframe\">\n",
       "  <thead>\n",
       "    <tr style=\"text-align: right;\">\n",
       "      <th></th>\n",
       "      <th>x1</th>\n",
       "      <th>x2</th>\n",
       "      <th>x3</th>\n",
       "      <th>y</th>\n",
       "    </tr>\n",
       "  </thead>\n",
       "  <tbody>\n",
       "    <tr>\n",
       "      <th>a1</th>\n",
       "      <td>4.2</td>\n",
       "      <td>2.1</td>\n",
       "      <td>2.5</td>\n",
       "      <td>a</td>\n",
       "    </tr>\n",
       "    <tr>\n",
       "      <th>a2</th>\n",
       "      <td>0.7</td>\n",
       "      <td>-3.7</td>\n",
       "      <td>-2.3</td>\n",
       "      <td>b</td>\n",
       "    </tr>\n",
       "    <tr>\n",
       "      <th>a3</th>\n",
       "      <td>-2.4</td>\n",
       "      <td>-2.1</td>\n",
       "      <td>4.0</td>\n",
       "      <td>b</td>\n",
       "    </tr>\n",
       "    <tr>\n",
       "      <th>a4</th>\n",
       "      <td>0.3</td>\n",
       "      <td>-1.5</td>\n",
       "      <td>1.9</td>\n",
       "      <td>c</td>\n",
       "    </tr>\n",
       "  </tbody>\n",
       "</table>\n",
       "</div>"
      ],
      "text/plain": [
       "     x1   x2   x3  y\n",
       "a1  4.2  2.1  2.5  a\n",
       "a2  0.7 -3.7 -2.3  b\n",
       "a3 -2.4 -2.1  4.0  b\n",
       "a4  0.3 -1.5  1.9  c"
      ]
     },
     "execution_count": 30,
     "metadata": {},
     "output_type": "execute_result"
    }
   ],
   "source": [
    "datos"
   ]
  },
  {
   "cell_type": "code",
   "execution_count": 32,
   "metadata": {},
   "outputs": [
    {
     "data": {
      "text/html": [
       "<div>\n",
       "<style scoped>\n",
       "    .dataframe tbody tr th:only-of-type {\n",
       "        vertical-align: middle;\n",
       "    }\n",
       "\n",
       "    .dataframe tbody tr th {\n",
       "        vertical-align: top;\n",
       "    }\n",
       "\n",
       "    .dataframe thead th {\n",
       "        text-align: right;\n",
       "    }\n",
       "</style>\n",
       "<table border=\"1\" class=\"dataframe\">\n",
       "  <thead>\n",
       "    <tr style=\"text-align: right;\">\n",
       "      <th></th>\n",
       "      <th>x2</th>\n",
       "      <th>x3</th>\n",
       "      <th>y</th>\n",
       "    </tr>\n",
       "  </thead>\n",
       "  <tbody>\n",
       "    <tr>\n",
       "      <th>a2</th>\n",
       "      <td>-3.7</td>\n",
       "      <td>-2.3</td>\n",
       "      <td>b</td>\n",
       "    </tr>\n",
       "    <tr>\n",
       "      <th>a3</th>\n",
       "      <td>-2.1</td>\n",
       "      <td>4.0</td>\n",
       "      <td>b</td>\n",
       "    </tr>\n",
       "  </tbody>\n",
       "</table>\n",
       "</div>"
      ],
      "text/plain": [
       "     x2   x3  y\n",
       "a2 -3.7 -2.3  b\n",
       "a3 -2.1  4.0  b"
      ]
     },
     "execution_count": 32,
     "metadata": {},
     "output_type": "execute_result"
    }
   ],
   "source": [
    "datos.iloc[1:3, 1:]"
   ]
  },
  {
   "cell_type": "code",
   "execution_count": null,
   "metadata": {},
   "outputs": [],
   "source": []
  },
  {
   "cell_type": "markdown",
   "metadata": {},
   "source": [
    "\n",
    "### Cambiar valores en subconjuntos de un DataFrame\n",
    "\n",
    "Usando `loc` o `iloc` es posible cambiar los valores en un subconjunto\n",
    "del DataFrame.\n",
    "\n",
    "Considerad el DataFrame datos:\n",
    "\n",
    "Podemos fijar el subconjunto a un único valor, por ejemplo, fijamos los valores de la columna `y` en las filas `a2` y `a4` a `NaN`\n"
   ]
  },
  {
   "cell_type": "code",
   "execution_count": 37,
   "metadata": {},
   "outputs": [
    {
     "data": {
      "text/html": [
       "<div>\n",
       "<style scoped>\n",
       "    .dataframe tbody tr th:only-of-type {\n",
       "        vertical-align: middle;\n",
       "    }\n",
       "\n",
       "    .dataframe tbody tr th {\n",
       "        vertical-align: top;\n",
       "    }\n",
       "\n",
       "    .dataframe thead th {\n",
       "        text-align: right;\n",
       "    }\n",
       "</style>\n",
       "<table border=\"1\" class=\"dataframe\">\n",
       "  <thead>\n",
       "    <tr style=\"text-align: right;\">\n",
       "      <th></th>\n",
       "      <th>x1</th>\n",
       "      <th>x2</th>\n",
       "      <th>x3</th>\n",
       "      <th>y</th>\n",
       "    </tr>\n",
       "  </thead>\n",
       "  <tbody>\n",
       "    <tr>\n",
       "      <th>a1</th>\n",
       "      <td>4.2</td>\n",
       "      <td>2.1</td>\n",
       "      <td>2.5</td>\n",
       "      <td>a</td>\n",
       "    </tr>\n",
       "    <tr>\n",
       "      <th>a2</th>\n",
       "      <td>0.7</td>\n",
       "      <td>-3.7</td>\n",
       "      <td>-2.3</td>\n",
       "      <td>NaN</td>\n",
       "    </tr>\n",
       "    <tr>\n",
       "      <th>a3</th>\n",
       "      <td>-2.4</td>\n",
       "      <td>-2.1</td>\n",
       "      <td>4.0</td>\n",
       "      <td>b</td>\n",
       "    </tr>\n",
       "    <tr>\n",
       "      <th>a4</th>\n",
       "      <td>0.3</td>\n",
       "      <td>-1.5</td>\n",
       "      <td>1.9</td>\n",
       "      <td>NaN</td>\n",
       "    </tr>\n",
       "  </tbody>\n",
       "</table>\n",
       "</div>"
      ],
      "text/plain": [
       "     x1   x2   x3    y\n",
       "a1  4.2  2.1  2.5    a\n",
       "a2  0.7 -3.7 -2.3  NaN\n",
       "a3 -2.4 -2.1  4.0    b\n",
       "a4  0.3 -1.5  1.9  NaN"
      ]
     },
     "execution_count": 37,
     "metadata": {},
     "output_type": "execute_result"
    }
   ],
   "source": [
    "datos.loc[[\"a2\",\"a4\"],\"y\"] = np.nan\n",
    "datos"
   ]
  },
  {
   "cell_type": "markdown",
   "metadata": {},
   "source": [
    "### Cambiar valores en subconjuntos de un DataFrame\n",
    "\n",
    "También podemos asignar a un subconjunto un objeto de tipo vector\n",
    "(lista, numpy array, Series o DataFrame) de dimensiones compatibles con\n",
    "el subconjunto.\n",
    "\n",
    "Por ejemplo para el mismo subconjunto que en el párrafo anterior, cambiamos sus valores a 'YES' y 'NO'\n"
   ]
  },
  {
   "cell_type": "code",
   "execution_count": 38,
   "metadata": {},
   "outputs": [
    {
     "data": {
      "text/html": [
       "<div>\n",
       "<style scoped>\n",
       "    .dataframe tbody tr th:only-of-type {\n",
       "        vertical-align: middle;\n",
       "    }\n",
       "\n",
       "    .dataframe tbody tr th {\n",
       "        vertical-align: top;\n",
       "    }\n",
       "\n",
       "    .dataframe thead th {\n",
       "        text-align: right;\n",
       "    }\n",
       "</style>\n",
       "<table border=\"1\" class=\"dataframe\">\n",
       "  <thead>\n",
       "    <tr style=\"text-align: right;\">\n",
       "      <th></th>\n",
       "      <th>x1</th>\n",
       "      <th>x2</th>\n",
       "      <th>x3</th>\n",
       "      <th>y</th>\n",
       "    </tr>\n",
       "  </thead>\n",
       "  <tbody>\n",
       "    <tr>\n",
       "      <th>a1</th>\n",
       "      <td>4.2</td>\n",
       "      <td>2.1</td>\n",
       "      <td>2.5</td>\n",
       "      <td>a</td>\n",
       "    </tr>\n",
       "    <tr>\n",
       "      <th>a2</th>\n",
       "      <td>0.7</td>\n",
       "      <td>-3.7</td>\n",
       "      <td>-2.3</td>\n",
       "      <td>YES</td>\n",
       "    </tr>\n",
       "    <tr>\n",
       "      <th>a3</th>\n",
       "      <td>-2.4</td>\n",
       "      <td>-2.1</td>\n",
       "      <td>4.0</td>\n",
       "      <td>b</td>\n",
       "    </tr>\n",
       "    <tr>\n",
       "      <th>a4</th>\n",
       "      <td>0.3</td>\n",
       "      <td>-1.5</td>\n",
       "      <td>1.9</td>\n",
       "      <td>NO</td>\n",
       "    </tr>\n",
       "  </tbody>\n",
       "</table>\n",
       "</div>"
      ],
      "text/plain": [
       "     x1   x2   x3    y\n",
       "a1  4.2  2.1  2.5    a\n",
       "a2  0.7 -3.7 -2.3  YES\n",
       "a3 -2.4 -2.1  4.0    b\n",
       "a4  0.3 -1.5  1.9   NO"
      ]
     },
     "execution_count": 38,
     "metadata": {},
     "output_type": "execute_result"
    }
   ],
   "source": [
    "datos.loc[[\"a2\",\"a4\"],\"y\"] = [\"YES\",\"NO\"]\n",
    "datos"
   ]
  },
  {
   "cell_type": "markdown",
   "metadata": {},
   "source": [
    "\n",
    "### Cambiar valores en subconjuntos de un DataFrame\n",
    "Si usamos un Series o DataFrame, los índices deben coincidir"
   ]
  },
  {
   "cell_type": "code",
   "execution_count": 42,
   "metadata": {},
   "outputs": [
    {
     "name": "stdout",
     "output_type": "stream",
     "text": [
      "     x1   x2   x3    y\n",
      "a1  4.2  2.1  2.5    a\n",
      "a2  0.7 -3.7 -2.3  NaN\n",
      "a3 -2.4 -2.1  4.0    b\n",
      "a4  0.3 -1.5  1.9  NaN\n",
      "     x1   x2   x3      y\n",
      "a1  4.2  2.1  2.5      a\n",
      "a2  0.7 -3.7 -2.3  PEDRO\n",
      "a3 -2.4 -2.1  4.0      b\n",
      "a4  0.3 -1.5  1.9    MAR\n"
     ]
    }
   ],
   "source": [
    "# Esto dara NaN porque una serie tiene INDICES. Aqui como tienen de indices 0 y 1 por edfecto saldra NaN\n",
    "# Si le indico el indice me dara luego lo correcto\n",
    "datos.loc[[\"a2\",\"a4\"],\"y\"] = pd.Series([\"PEDRO\",\"MAR\"])\n",
    "print(datos)\n",
    "datos.loc[[\"a2\",\"a4\"],\"y\"] = pd.Series([\"PEDRO\",\"MAR\"], index=[\"a2\",\"a4\"])\n",
    "print(datos)"
   ]
  },
  {
   "cell_type": "markdown",
   "metadata": {},
   "source": [
    "\n",
    "### Cambiar valores en subconjuntos de un DataFrame\n",
    "\n",
    "A veces se usa indexación en cadena en lugar de usar `loc`: Recordad el\n",
    "DataFrame datos:\n",
    "`datos[(datos['y'] == 'b')]['y']` y `datos.loc[(datos['y'] == 'b'), 'y']`  devuelven el mismo objeto, sin embargo NO se debe usar la primera forma para asignar valores al subconjunto del dataframe resultante:\n",
    "No debemos usar: `datos[ (datos['y'] == 'b')]['y'] = 'B'`\n",
    "y sí usar en su lugar `loc`:\n",
    "`datos.loc[(datos['y'] == 'b'), 'y'] = 'B'`\n"
   ]
  },
  {
   "cell_type": "markdown",
   "metadata": {},
   "source": [
    "## "
   ]
  },
  {
   "cell_type": "markdown",
   "metadata": {},
   "source": [
    "## "
   ]
  },
  {
   "cell_type": "markdown",
   "metadata": {},
   "source": [
    "## "
   ]
  }
 ],
 "metadata": {
  "interpreter": {
   "hash": "57d4d4b7ea27768f4cddc3b804343736997c43b5f0e80add182ba3b06afbab8c"
  },
  "kernelspec": {
   "display_name": "Python 3 (ipykernel)",
   "language": "python",
   "name": "python3"
  },
  "language_info": {
   "codemirror_mode": {
    "name": "ipython",
    "version": 3
   },
   "file_extension": ".py",
   "mimetype": "text/x-python",
   "name": "python",
   "nbconvert_exporter": "python",
   "pygments_lexer": "ipython3",
   "version": "3.12.3"
  }
 },
 "nbformat": 4,
 "nbformat_minor": 4
}
