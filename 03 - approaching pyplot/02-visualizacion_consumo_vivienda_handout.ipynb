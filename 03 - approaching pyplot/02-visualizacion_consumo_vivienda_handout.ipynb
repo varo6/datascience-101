{
 "cells": [
  {
   "cell_type": "markdown",
   "metadata": {},
   "source": [
    "# Trabajo. Visualización de datos: consumo eléctrico de una vivienda.\n",
    "\n",
    "En este trabajo, tenéis que completar algunos de los bloques de código para contestar a las preguntas que van apareciendo en el documento. \n",
    "\n",
    "\n",
    "Usaremos en este trabajo  los datos que ya exploramos en el trabajo sobre manipulación de datos y cálculo de resúmenes por grupos. El fichero es `household_hourly_power_consumption.txt`, que se puede descargar del aula virtual.\n",
    "\n",
    "Empezamos por importar los módulos `pandas`, `pyplot` de `matplotlib`, y `path` de `os`, para tratar las  localizaciones de ficheros."
   ]
  },
  {
   "cell_type": "code",
   "execution_count": 42,
   "metadata": {},
   "outputs": [],
   "source": [
    "# Completar aquí: importar módulos\n",
    "from pathlib import Path\n",
    "\n",
    "import pandas as pd\n",
    "from matplotlib import pyplot as plt\n",
    "\n",
    "# --------------------"
   ]
  },
  {
   "cell_type": "markdown",
   "metadata": {},
   "source": [
    "## Cargamos los datos\n",
    "Definimos la variable `DATA_DIRECTORY` que indica dónde están situados nuestros datos respecto a la localización de este `notebook`."
   ]
  },
  {
   "cell_type": "code",
   "execution_count": 43,
   "metadata": {},
   "outputs": [],
   "source": [
    "# Completar aquí: definir DATA_DIRECTORY\n",
    "DATA_DIRECTORY: Path = Path(\"../data\")\n",
    "# --------------------"
   ]
  },
  {
   "cell_type": "markdown",
   "metadata": {},
   "source": [
    "Podemos importar los datos en un `DataFrame` que llamaremos `vivienda`. Lo haremos especificando que la columna `date_hour` debe ser parseada como `datetime` y que la usaremos como `index`. Indicaremos la ubicación del fichero de datos usando `path.join` y la variable `DATA_DIRECTORY`."
   ]
  },
  {
   "cell_type": "code",
   "execution_count": 44,
   "metadata": {},
   "outputs": [
    {
     "data": {
      "text/html": [
       "<div>\n",
       "<style scoped>\n",
       "    .dataframe tbody tr th:only-of-type {\n",
       "        vertical-align: middle;\n",
       "    }\n",
       "\n",
       "    .dataframe tbody tr th {\n",
       "        vertical-align: top;\n",
       "    }\n",
       "\n",
       "    .dataframe thead th {\n",
       "        text-align: right;\n",
       "    }\n",
       "</style>\n",
       "<table border=\"1\" class=\"dataframe\">\n",
       "  <thead>\n",
       "    <tr style=\"text-align: right;\">\n",
       "      <th></th>\n",
       "      <th>global_active_power</th>\n",
       "      <th>global_reactive_power</th>\n",
       "      <th>voltage</th>\n",
       "      <th>vlobal_intensity</th>\n",
       "      <th>sub_metering_1</th>\n",
       "      <th>sub_metering_2</th>\n",
       "      <th>sub_metering_3</th>\n",
       "    </tr>\n",
       "    <tr>\n",
       "      <th>date_hour</th>\n",
       "      <th></th>\n",
       "      <th></th>\n",
       "      <th></th>\n",
       "      <th></th>\n",
       "      <th></th>\n",
       "      <th></th>\n",
       "      <th></th>\n",
       "    </tr>\n",
       "  </thead>\n",
       "  <tbody>\n",
       "    <tr>\n",
       "      <th>2006-12-16 17:00:00</th>\n",
       "      <td>4.222889</td>\n",
       "      <td>0.229000</td>\n",
       "      <td>234.643889</td>\n",
       "      <td>18.100000</td>\n",
       "      <td>0.0</td>\n",
       "      <td>0.527778</td>\n",
       "      <td>16.861111</td>\n",
       "    </tr>\n",
       "    <tr>\n",
       "      <th>2006-12-16 18:00:00</th>\n",
       "      <td>3.632200</td>\n",
       "      <td>0.080033</td>\n",
       "      <td>234.580167</td>\n",
       "      <td>15.600000</td>\n",
       "      <td>0.0</td>\n",
       "      <td>6.716667</td>\n",
       "      <td>16.866667</td>\n",
       "    </tr>\n",
       "    <tr>\n",
       "      <th>2006-12-16 19:00:00</th>\n",
       "      <td>3.400233</td>\n",
       "      <td>0.085233</td>\n",
       "      <td>233.232500</td>\n",
       "      <td>14.503333</td>\n",
       "      <td>0.0</td>\n",
       "      <td>1.433333</td>\n",
       "      <td>16.683333</td>\n",
       "    </tr>\n",
       "    <tr>\n",
       "      <th>2006-12-16 20:00:00</th>\n",
       "      <td>3.268567</td>\n",
       "      <td>0.075100</td>\n",
       "      <td>234.071500</td>\n",
       "      <td>13.916667</td>\n",
       "      <td>0.0</td>\n",
       "      <td>0.000000</td>\n",
       "      <td>16.783333</td>\n",
       "    </tr>\n",
       "    <tr>\n",
       "      <th>2006-12-16 21:00:00</th>\n",
       "      <td>3.056467</td>\n",
       "      <td>0.076667</td>\n",
       "      <td>237.158667</td>\n",
       "      <td>13.046667</td>\n",
       "      <td>0.0</td>\n",
       "      <td>0.416667</td>\n",
       "      <td>17.216667</td>\n",
       "    </tr>\n",
       "    <tr>\n",
       "      <th>...</th>\n",
       "      <td>...</td>\n",
       "      <td>...</td>\n",
       "      <td>...</td>\n",
       "      <td>...</td>\n",
       "      <td>...</td>\n",
       "      <td>...</td>\n",
       "      <td>...</td>\n",
       "    </tr>\n",
       "    <tr>\n",
       "      <th>2010-11-26 17:00:00</th>\n",
       "      <td>1.725900</td>\n",
       "      <td>0.061400</td>\n",
       "      <td>237.069667</td>\n",
       "      <td>7.216667</td>\n",
       "      <td>0.0</td>\n",
       "      <td>0.000000</td>\n",
       "      <td>12.866667</td>\n",
       "    </tr>\n",
       "    <tr>\n",
       "      <th>2010-11-26 18:00:00</th>\n",
       "      <td>1.573467</td>\n",
       "      <td>0.053700</td>\n",
       "      <td>237.531833</td>\n",
       "      <td>6.620000</td>\n",
       "      <td>0.0</td>\n",
       "      <td>0.000000</td>\n",
       "      <td>0.000000</td>\n",
       "    </tr>\n",
       "    <tr>\n",
       "      <th>2010-11-26 19:00:00</th>\n",
       "      <td>1.659333</td>\n",
       "      <td>0.060033</td>\n",
       "      <td>236.741000</td>\n",
       "      <td>7.056667</td>\n",
       "      <td>0.0</td>\n",
       "      <td>0.066667</td>\n",
       "      <td>0.000000</td>\n",
       "    </tr>\n",
       "    <tr>\n",
       "      <th>2010-11-26 20:00:00</th>\n",
       "      <td>1.163700</td>\n",
       "      <td>0.061167</td>\n",
       "      <td>239.396000</td>\n",
       "      <td>4.913333</td>\n",
       "      <td>0.0</td>\n",
       "      <td>1.066667</td>\n",
       "      <td>0.000000</td>\n",
       "    </tr>\n",
       "    <tr>\n",
       "      <th>2010-11-26 21:00:00</th>\n",
       "      <td>0.934667</td>\n",
       "      <td>0.000000</td>\n",
       "      <td>239.690000</td>\n",
       "      <td>3.800000</td>\n",
       "      <td>0.0</td>\n",
       "      <td>0.000000</td>\n",
       "      <td>0.000000</td>\n",
       "    </tr>\n",
       "  </tbody>\n",
       "</table>\n",
       "<p>34589 rows × 7 columns</p>\n",
       "</div>"
      ],
      "text/plain": [
       "                     global_active_power  global_reactive_power     voltage  \\\n",
       "date_hour                                                                     \n",
       "2006-12-16 17:00:00             4.222889               0.229000  234.643889   \n",
       "2006-12-16 18:00:00             3.632200               0.080033  234.580167   \n",
       "2006-12-16 19:00:00             3.400233               0.085233  233.232500   \n",
       "2006-12-16 20:00:00             3.268567               0.075100  234.071500   \n",
       "2006-12-16 21:00:00             3.056467               0.076667  237.158667   \n",
       "...                                  ...                    ...         ...   \n",
       "2010-11-26 17:00:00             1.725900               0.061400  237.069667   \n",
       "2010-11-26 18:00:00             1.573467               0.053700  237.531833   \n",
       "2010-11-26 19:00:00             1.659333               0.060033  236.741000   \n",
       "2010-11-26 20:00:00             1.163700               0.061167  239.396000   \n",
       "2010-11-26 21:00:00             0.934667               0.000000  239.690000   \n",
       "\n",
       "                     vlobal_intensity  sub_metering_1  sub_metering_2  \\\n",
       "date_hour                                                               \n",
       "2006-12-16 17:00:00         18.100000             0.0        0.527778   \n",
       "2006-12-16 18:00:00         15.600000             0.0        6.716667   \n",
       "2006-12-16 19:00:00         14.503333             0.0        1.433333   \n",
       "2006-12-16 20:00:00         13.916667             0.0        0.000000   \n",
       "2006-12-16 21:00:00         13.046667             0.0        0.416667   \n",
       "...                               ...             ...             ...   \n",
       "2010-11-26 17:00:00          7.216667             0.0        0.000000   \n",
       "2010-11-26 18:00:00          6.620000             0.0        0.000000   \n",
       "2010-11-26 19:00:00          7.056667             0.0        0.066667   \n",
       "2010-11-26 20:00:00          4.913333             0.0        1.066667   \n",
       "2010-11-26 21:00:00          3.800000             0.0        0.000000   \n",
       "\n",
       "                     sub_metering_3  \n",
       "date_hour                            \n",
       "2006-12-16 17:00:00       16.861111  \n",
       "2006-12-16 18:00:00       16.866667  \n",
       "2006-12-16 19:00:00       16.683333  \n",
       "2006-12-16 20:00:00       16.783333  \n",
       "2006-12-16 21:00:00       17.216667  \n",
       "...                             ...  \n",
       "2010-11-26 17:00:00       12.866667  \n",
       "2010-11-26 18:00:00        0.000000  \n",
       "2010-11-26 19:00:00        0.000000  \n",
       "2010-11-26 20:00:00        0.000000  \n",
       "2010-11-26 21:00:00        0.000000  \n",
       "\n",
       "[34589 rows x 7 columns]"
      ]
     },
     "execution_count": 44,
     "metadata": {},
     "output_type": "execute_result"
    }
   ],
   "source": [
    "# Completar aquí\n",
    "vivienda: pd.DataFrame = pd.read_csv(\n",
    "    DATA_DIRECTORY / \"household_hourly_power_consumption.txt\",\n",
    "    skiprows=13,\n",
    "    sep=\";\",\n",
    "    parse_dates=[\"date_hour\"],\n",
    "    index_col=\"date_hour\",\n",
    ")\n",
    "# --------------------\n",
    "vivienda"
   ]
  },
  {
   "cell_type": "markdown",
   "metadata": {},
   "source": [
    "## Histograma de la potencia global activa\n",
    "Empezaremos por representar un histograma de la potencia global activa, con 15 clases (\"bins\"). Este número de 15 se ha calculado usando la regla de Sturges."
   ]
  },
  {
   "cell_type": "code",
   "execution_count": 45,
   "metadata": {},
   "outputs": [
    {
     "data": {
      "image/png": "[encoded data removed]",
      "text/plain": [
       "<Figure size 640x480 with 1 Axes>"
      ]
     },
     "metadata": {},
     "output_type": "display_data"
    }
   ],
   "source": [
    "# Completar aquí\n",
    "# https://matplotlib.org/stable/api/_as_gen/matplotlib.pyplot.hist.html\n",
    "fig, ax = plt.subplots()\n",
    "ax.hist(vivienda[\"global_active_power\"], bins=15, color=\"lightblue\")\n",
    "plt.show()\n",
    "# --------------------"
   ]
  },
  {
   "cell_type": "markdown",
   "metadata": {},
   "source": [
    "## Boxplots del voltaje según los años.\n",
    "Vamos a obtener ahora unos diagramas de cajabigotes del voltaje según cada año. Para ello, empezamos por obtener cuántos datos tenemos por año en el conjunto. "
   ]
  },
  {
   "cell_type": "code",
   "execution_count": 46,
   "metadata": {},
   "outputs": [
    {
     "data": {
      "text/plain": [
       "date_hour\n",
       "2006     367\n",
       "2007    8760\n",
       "2008    8784\n",
       "2009    8760\n",
       "2010    7918\n",
       "Name: count, dtype: int64"
      ]
     },
     "execution_count": 46,
     "metadata": {},
     "output_type": "execute_result"
    }
   ],
   "source": [
    "# Completar aquí:\n",
    "# Equivaldría a las medidas que tenemos por año\n",
    "\n",
    "vivienda.index.year.value_counts(sort=False)\n",
    "\n",
    "# --------------------"
   ]
  },
  {
   "cell_type": "markdown",
   "metadata": {},
   "source": [
    "Nuestra intención es hacer una gráfica que contenga los diagramas de caja bigotes uno al lado del otro, donde el eje Ox es el eje de los años, de 2006 a 2010.\n",
    "\n",
    "Para ello, tendremos que usar una lista que contenga las series de `voltage` año por año y pasarla a `ax.boxplot`."
   ]
  },
  {
   "cell_type": "code",
   "execution_count": 47,
   "metadata": {},
   "outputs": [
    {
     "data": {
      "image/png": "[encoded data removed]",
      "text/plain": [
       "<Figure size 640x480 with 1 Axes>"
      ]
     },
     "metadata": {},
     "output_type": "display_data"
    },
    {
     "name": "stdout",
     "output_type": "stream",
     "text": [
      "Antes salía vacío en otros años por los valores nulos existentes. Con dropna() se arregla.\n"
     ]
    }
   ],
   "source": [
    "# Completar aquí\n",
    "# https://matplotlib.org/stable/api/_as_gen/matplotlib.pyplot.boxplot.html\n",
    "vivienda_year = vivienda[\"voltage\"].groupby(lambda x: x.year)\n",
    "list_series: list = []\n",
    "year: list = []\n",
    "for y, s in vivienda_year:\n",
    "    list_series.append(s.dropna())\n",
    "    year.append(str(y))\n",
    "\n",
    "fig, ax = plt.subplots()\n",
    "ax.boxplot(list_series, tick_labels=year)\n",
    "plt.show()\n",
    "print(\n",
    "    \"Antes salía vacío en otros años por los valores nulos existentes. Con dropna() se arregla.\"\n",
    ")\n",
    "# --------------------"
   ]
  },
  {
   "cell_type": "markdown",
   "metadata": {},
   "source": [
    "Es posible (probable?) que, en vuestra gráfica, sólo aparezcan los años 2006 y 2008, a qué se podría deber? Cómo podríamos arreglarlo?"
   ]
  },
  {
   "cell_type": "markdown",
   "metadata": {},
   "source": [
    "## Gráficas para la potencia global activa\n",
    "\n",
    "Empezamos por representar la evolución temporal de la potencia global activa."
   ]
  },
  {
   "cell_type": "code",
   "execution_count": 48,
   "metadata": {},
   "outputs": [
    {
     "data": {
      "image/png": "[encoded data removed]",
      "text/plain": [
       "<Figure size 640x480 with 1 Axes>"
      ]
     },
     "metadata": {},
     "output_type": "display_data"
    }
   ],
   "source": [
    "# Completar aquí\n",
    "fig, ax = plt.subplots()\n",
    "ax.plot(vivienda[\"global_active_power\"])\n",
    "plt.xticks(rotation=45)\n",
    "plt.show()\n",
    "# --------------------"
   ]
  },
  {
   "cell_type": "markdown",
   "metadata": {},
   "source": [
    "Se observa algo destacable?\n",
    "\n",
    "### Pequeñas modificaciones de la gráfica:\n",
    "\n",
    "Realizad las modificaciones siguientes sobre la gráfica temporal:\n",
    "\n",
    "1. Cambiad las etiquetas de los ejes: en el eje Ox, ponemos \"Fecha\", mientras que en el eje poned \"Potencia global activa (kW).\n",
    "2. Añadid el título \"Evolución temporal de la potencia global activa consumida, 2006-2012\"\n",
    "3. Usando la función `savefig` de pyplot, guardad la gráfica en un fichero llamado potencia-global-activa-2006-2012.png en carpeta \"figures\" de vuestro directorio de trabajo para este trabajo. \n"
   ]
  },
  {
   "cell_type": "code",
   "execution_count": 49,
   "metadata": {},
   "outputs": [
    {
     "data": {
      "image/png": "[encoded data removed]",
      "text/plain": [
       "<Figure size 640x480 with 1 Axes>"
      ]
     },
     "metadata": {},
     "output_type": "display_data"
    }
   ],
   "source": [
    "# Completar aquí\n",
    "fig, ax = plt.subplots()\n",
    "ax.plot(vivienda[\"global_active_power\"])\n",
    "ax.set_xlabel(\"Fecha\")\n",
    "ax.set_ylabel(\"Potencia global activa (kW)\")\n",
    "plt.xticks(rotation=45)\n",
    "plt.title(\"Evolución temporal de la potencia global activa consumida, 2006-2012\")\n",
    "plt.savefig(Path(\"./figures/potencia-global-activa-2006-2012\"))\n",
    "\n",
    "# --------------------"
   ]
  },
  {
   "cell_type": "markdown",
   "metadata": {},
   "source": [
    "### Seleccionamos los meses de julio a diciembre de 2008\n",
    "\n",
    "Queremos realizar la misma gráfica pero si nos limitamos a los meses de julio hasta diciembre de 2008.\n",
    "- Empezaremos por crear un `DataFrame` llamado `vivienda_2008` que sólo contenga las etiquetas de tiempo desde el 1 de julio de 2008 hasta el 31 de diciembre de 2008.\n",
    "- Podemos usar `loc` para seleccionar etiquetas. Como el `index` es de tipo `datetime`, usaremos el constructor `datetime` del módulo `datetime`. Esta función nos permite construir una fecha especificando el año, mes y día, hora, mínuto, segundo. Ver su [documentación](https://docs.python.org/3/library/datetime.html#datetime.datetime)\n"
   ]
  },
  {
   "cell_type": "code",
   "execution_count": 50,
   "metadata": {},
   "outputs": [
    {
     "name": "stdout",
     "output_type": "stream",
     "text": [
      "Menor registro de tiempo: 2008-07-01 00:00:00\n",
      "Mayor registro de tiempo: 2008-12-31 23:00:00\n",
      "Número de registros: 4416\n"
     ]
    }
   ],
   "source": [
    "# Completar aquí\n",
    "# https://docs.python.org/3/library/datetime.html#datetime.datetime vemos el constructor datetime(y,m,d,h,m,s)\n",
    "from datetime import datetime\n",
    "\n",
    "init: datetime.date = datetime(2008, 7, 1)\n",
    "end: datetime.date = datetime(2008, 12, 31, 23, 59, 59)\n",
    "vivienda_2008: pd.DataFrame = vivienda.loc[init:end]\n",
    "\n",
    "# --------------------\n",
    "print(f\"Menor registro de tiempo: {vivienda_2008.index.min()}\")\n",
    "print(f\"Mayor registro de tiempo: {vivienda_2008.index.max()}\")\n",
    "print(f\"Número de registros: {vivienda_2008.shape[0]}\")"
   ]
  },
  {
   "cell_type": "markdown",
   "metadata": {},
   "source": [
    "Hacemos la representación gráfica de la columna `global_active_power` de `vivienda_2008`."
   ]
  },
  {
   "cell_type": "code",
   "execution_count": 51,
   "metadata": {},
   "outputs": [
    {
     "data": {
      "image/png": "[encoded data removed]",
      "text/plain": [
       "<Figure size 640x480 with 1 Axes>"
      ]
     },
     "metadata": {},
     "output_type": "display_data"
    }
   ],
   "source": [
    "# Completar aquí\n",
    "fig, ax = plt.subplots()\n",
    "ax.plot(vivienda_2008[\"global_active_power\"])\n",
    "plt.xticks(rotation=45)\n",
    "plt.title(\n",
    "    \"Evolución temporal de la potencia global activa consumida, junio a diciembre 2008\"\n",
    ")\n",
    "ax.set_ylabel(\"Potencia global activa (kW)\")\n",
    "ax.set_xlabel(\"Fecha\")\n",
    "plt.show()\n",
    "# --------------------"
   ]
  },
  {
   "cell_type": "markdown",
   "metadata": {},
   "source": [
    "### Exploración del perfil horario de la potencia global consumida.\n",
    "\n",
    "\n",
    "Vamos a explorar el perfil de evolución horario de la potencia global consumida.\n",
    "\n",
    "Para ello, empezamos por construir un `DataFrame` que llamaremos *resumen_horario* y que\n",
    "contenga el valor promedio de la potencia global activa consumida por hora (el promedio se hará, por hora, sobre todo\n",
    "el conjunto `vivienda`).\n",
    "\n",
    "`resumen_horario` tendrá por `index` la hora, y tendrá dos columnas `promedio`hora,  y n (el número de datos utilizado para calcular la media en cada grupo)\n",
    "\n",
    "> Para obtener la hora de la columna `index` de `vivienda`, podréis usar el método \n"
   ]
  },
  {
   "cell_type": "code",
   "execution_count": 52,
   "metadata": {},
   "outputs": [
    {
     "data": {
      "text/html": [
       "<div>\n",
       "<style scoped>\n",
       "    .dataframe tbody tr th:only-of-type {\n",
       "        vertical-align: middle;\n",
       "    }\n",
       "\n",
       "    .dataframe tbody tr th {\n",
       "        vertical-align: top;\n",
       "    }\n",
       "\n",
       "    .dataframe thead th {\n",
       "        text-align: right;\n",
       "    }\n",
       "</style>\n",
       "<table border=\"1\" class=\"dataframe\">\n",
       "  <thead>\n",
       "    <tr style=\"text-align: right;\">\n",
       "      <th></th>\n",
       "      <th>promedio</th>\n",
       "      <th>n</th>\n",
       "    </tr>\n",
       "    <tr>\n",
       "      <th>date_hour</th>\n",
       "      <th></th>\n",
       "      <th></th>\n",
       "    </tr>\n",
       "  </thead>\n",
       "  <tbody>\n",
       "    <tr>\n",
       "      <th>0</th>\n",
       "      <td>0.659562</td>\n",
       "      <td>1426</td>\n",
       "    </tr>\n",
       "    <tr>\n",
       "      <th>1</th>\n",
       "      <td>0.539325</td>\n",
       "      <td>1424</td>\n",
       "    </tr>\n",
       "    <tr>\n",
       "      <th>2</th>\n",
       "      <td>0.480618</td>\n",
       "      <td>1424</td>\n",
       "    </tr>\n",
       "    <tr>\n",
       "      <th>3</th>\n",
       "      <td>0.444850</td>\n",
       "      <td>1424</td>\n",
       "    </tr>\n",
       "    <tr>\n",
       "      <th>4</th>\n",
       "      <td>0.443844</td>\n",
       "      <td>1422</td>\n",
       "    </tr>\n",
       "    <tr>\n",
       "      <th>5</th>\n",
       "      <td>0.453674</td>\n",
       "      <td>1421</td>\n",
       "    </tr>\n",
       "    <tr>\n",
       "      <th>6</th>\n",
       "      <td>0.791606</td>\n",
       "      <td>1421</td>\n",
       "    </tr>\n",
       "    <tr>\n",
       "      <th>7</th>\n",
       "      <td>1.502373</td>\n",
       "      <td>1422</td>\n",
       "    </tr>\n",
       "    <tr>\n",
       "      <th>8</th>\n",
       "      <td>1.460940</td>\n",
       "      <td>1422</td>\n",
       "    </tr>\n",
       "    <tr>\n",
       "      <th>9</th>\n",
       "      <td>1.331642</td>\n",
       "      <td>1422</td>\n",
       "    </tr>\n",
       "    <tr>\n",
       "      <th>10</th>\n",
       "      <td>1.260913</td>\n",
       "      <td>1422</td>\n",
       "    </tr>\n",
       "    <tr>\n",
       "      <th>11</th>\n",
       "      <td>1.246408</td>\n",
       "      <td>1422</td>\n",
       "    </tr>\n",
       "    <tr>\n",
       "      <th>12</th>\n",
       "      <td>1.207061</td>\n",
       "      <td>1422</td>\n",
       "    </tr>\n",
       "    <tr>\n",
       "      <th>13</th>\n",
       "      <td>1.144471</td>\n",
       "      <td>1423</td>\n",
       "    </tr>\n",
       "    <tr>\n",
       "      <th>14</th>\n",
       "      <td>1.082750</td>\n",
       "      <td>1424</td>\n",
       "    </tr>\n",
       "    <tr>\n",
       "      <th>15</th>\n",
       "      <td>0.990806</td>\n",
       "      <td>1423</td>\n",
       "    </tr>\n",
       "    <tr>\n",
       "      <th>16</th>\n",
       "      <td>0.948805</td>\n",
       "      <td>1423</td>\n",
       "    </tr>\n",
       "    <tr>\n",
       "      <th>17</th>\n",
       "      <td>1.056164</td>\n",
       "      <td>1423</td>\n",
       "    </tr>\n",
       "    <tr>\n",
       "      <th>18</th>\n",
       "      <td>1.326433</td>\n",
       "      <td>1424</td>\n",
       "    </tr>\n",
       "    <tr>\n",
       "      <th>19</th>\n",
       "      <td>1.733428</td>\n",
       "      <td>1427</td>\n",
       "    </tr>\n",
       "    <tr>\n",
       "      <th>20</th>\n",
       "      <td>1.899073</td>\n",
       "      <td>1427</td>\n",
       "    </tr>\n",
       "    <tr>\n",
       "      <th>21</th>\n",
       "      <td>1.876063</td>\n",
       "      <td>1428</td>\n",
       "    </tr>\n",
       "    <tr>\n",
       "      <th>22</th>\n",
       "      <td>1.412681</td>\n",
       "      <td>1426</td>\n",
       "    </tr>\n",
       "    <tr>\n",
       "      <th>23</th>\n",
       "      <td>0.902142</td>\n",
       "      <td>1426</td>\n",
       "    </tr>\n",
       "  </tbody>\n",
       "</table>\n",
       "</div>"
      ],
      "text/plain": [
       "           promedio     n\n",
       "date_hour                \n",
       "0          0.659562  1426\n",
       "1          0.539325  1424\n",
       "2          0.480618  1424\n",
       "3          0.444850  1424\n",
       "4          0.443844  1422\n",
       "5          0.453674  1421\n",
       "6          0.791606  1421\n",
       "7          1.502373  1422\n",
       "8          1.460940  1422\n",
       "9          1.331642  1422\n",
       "10         1.260913  1422\n",
       "11         1.246408  1422\n",
       "12         1.207061  1422\n",
       "13         1.144471  1423\n",
       "14         1.082750  1424\n",
       "15         0.990806  1423\n",
       "16         0.948805  1423\n",
       "17         1.056164  1423\n",
       "18         1.326433  1424\n",
       "19         1.733428  1427\n",
       "20         1.899073  1427\n",
       "21         1.876063  1428\n",
       "22         1.412681  1426\n",
       "23         0.902142  1426"
      ]
     },
     "execution_count": 52,
     "metadata": {},
     "output_type": "execute_result"
    }
   ],
   "source": [
    "# Completar aquí\n",
    "grouped_horas = vivienda[\"global_active_power\"].groupby(lambda x: x.hour)\n",
    "\n",
    "resumen_horario: pd.DataFrame = pd.concat(\n",
    "    [grouped_horas.mean(), grouped_horas.count()], axis=1\n",
    ")\n",
    "resumen_horario.columns = [\"promedio\", \"n\"]\n",
    "# --------------------\n",
    "resumen_horario"
   ]
  },
  {
   "cell_type": "markdown",
   "metadata": {},
   "source": [
    "Podemos ahora representar gráficamente el perfil de evolución horario usando `resumen_horario`\n",
    "(Global_active_power promedio en función de hora). Queremos hacerlo con barras verticales. "
   ]
  },
  {
   "cell_type": "code",
   "execution_count": 53,
   "metadata": {},
   "outputs": [
    {
     "data": {
      "image/png": "[encoded data removed]",
      "text/plain": [
       "<Figure size 640x480 with 1 Axes>"
      ]
     },
     "metadata": {},
     "output_type": "display_data"
    }
   ],
   "source": [
    "# Completar aquí\n",
    "fig, ax = plt.subplots()\n",
    "ax.bar(resumen_horario.index, resumen_horario[\"promedio\"])\n",
    "plt.title(\"Evolución horario, potencia activa promedio\")\n",
    "ax.set_xlabel(\"Hora del día\")\n",
    "plt.show()\n",
    "# --------------------"
   ]
  },
  {
   "cell_type": "markdown",
   "metadata": {},
   "source": [
    "### Opcional:\n",
    "Podemos añadir el valor de la potencia calculada encima de cada barra en la gráfica"
   ]
  },
  {
   "cell_type": "code",
   "execution_count": 54,
   "metadata": {},
   "outputs": [],
   "source": [
    "# Completar aquí\n",
    "\n",
    "# --------------------"
   ]
  },
  {
   "cell_type": "markdown",
   "metadata": {},
   "source": [
    "Vamos a ver si el perfil de evolución horaria es diferente según los días de la semana. Para ello,\n",
    "necesitamos crear un nuevo `Series` resumen, que se llamará `resumen_horario_dia`, y que contenga\n",
    "el promedio  de la potencia global activa consumida si desglosamos los datos por hora *y por día de la semana*.\n",
    "Empezamos por crear dos columnas `dia_semana` y `hora` en el DataFrame `vivienda` usando los atributos `weekday` y `hour` de su índice.\n",
    "\n"
   ]
  },
  {
   "cell_type": "code",
   "execution_count": 55,
   "metadata": {},
   "outputs": [
    {
     "data": {
      "text/html": [
       "<div>\n",
       "<style scoped>\n",
       "    .dataframe tbody tr th:only-of-type {\n",
       "        vertical-align: middle;\n",
       "    }\n",
       "\n",
       "    .dataframe tbody tr th {\n",
       "        vertical-align: top;\n",
       "    }\n",
       "\n",
       "    .dataframe thead th {\n",
       "        text-align: right;\n",
       "    }\n",
       "</style>\n",
       "<table border=\"1\" class=\"dataframe\">\n",
       "  <thead>\n",
       "    <tr style=\"text-align: right;\">\n",
       "      <th></th>\n",
       "      <th>global_active_power</th>\n",
       "      <th>global_reactive_power</th>\n",
       "      <th>voltage</th>\n",
       "      <th>vlobal_intensity</th>\n",
       "      <th>sub_metering_1</th>\n",
       "      <th>sub_metering_2</th>\n",
       "      <th>sub_metering_3</th>\n",
       "    </tr>\n",
       "    <tr>\n",
       "      <th>date_hour</th>\n",
       "      <th></th>\n",
       "      <th></th>\n",
       "      <th></th>\n",
       "      <th></th>\n",
       "      <th></th>\n",
       "      <th></th>\n",
       "      <th></th>\n",
       "    </tr>\n",
       "  </thead>\n",
       "  <tbody>\n",
       "    <tr>\n",
       "      <th>2006-12-16 17:00:00</th>\n",
       "      <td>4.222889</td>\n",
       "      <td>0.229000</td>\n",
       "      <td>234.643889</td>\n",
       "      <td>18.100000</td>\n",
       "      <td>0.0</td>\n",
       "      <td>0.527778</td>\n",
       "      <td>16.861111</td>\n",
       "    </tr>\n",
       "    <tr>\n",
       "      <th>2006-12-16 18:00:00</th>\n",
       "      <td>3.632200</td>\n",
       "      <td>0.080033</td>\n",
       "      <td>234.580167</td>\n",
       "      <td>15.600000</td>\n",
       "      <td>0.0</td>\n",
       "      <td>6.716667</td>\n",
       "      <td>16.866667</td>\n",
       "    </tr>\n",
       "    <tr>\n",
       "      <th>2006-12-16 19:00:00</th>\n",
       "      <td>3.400233</td>\n",
       "      <td>0.085233</td>\n",
       "      <td>233.232500</td>\n",
       "      <td>14.503333</td>\n",
       "      <td>0.0</td>\n",
       "      <td>1.433333</td>\n",
       "      <td>16.683333</td>\n",
       "    </tr>\n",
       "    <tr>\n",
       "      <th>2006-12-16 20:00:00</th>\n",
       "      <td>3.268567</td>\n",
       "      <td>0.075100</td>\n",
       "      <td>234.071500</td>\n",
       "      <td>13.916667</td>\n",
       "      <td>0.0</td>\n",
       "      <td>0.000000</td>\n",
       "      <td>16.783333</td>\n",
       "    </tr>\n",
       "    <tr>\n",
       "      <th>2006-12-16 21:00:00</th>\n",
       "      <td>3.056467</td>\n",
       "      <td>0.076667</td>\n",
       "      <td>237.158667</td>\n",
       "      <td>13.046667</td>\n",
       "      <td>0.0</td>\n",
       "      <td>0.416667</td>\n",
       "      <td>17.216667</td>\n",
       "    </tr>\n",
       "    <tr>\n",
       "      <th>...</th>\n",
       "      <td>...</td>\n",
       "      <td>...</td>\n",
       "      <td>...</td>\n",
       "      <td>...</td>\n",
       "      <td>...</td>\n",
       "      <td>...</td>\n",
       "      <td>...</td>\n",
       "    </tr>\n",
       "    <tr>\n",
       "      <th>2010-11-26 17:00:00</th>\n",
       "      <td>1.725900</td>\n",
       "      <td>0.061400</td>\n",
       "      <td>237.069667</td>\n",
       "      <td>7.216667</td>\n",
       "      <td>0.0</td>\n",
       "      <td>0.000000</td>\n",
       "      <td>12.866667</td>\n",
       "    </tr>\n",
       "    <tr>\n",
       "      <th>2010-11-26 18:00:00</th>\n",
       "      <td>1.573467</td>\n",
       "      <td>0.053700</td>\n",
       "      <td>237.531833</td>\n",
       "      <td>6.620000</td>\n",
       "      <td>0.0</td>\n",
       "      <td>0.000000</td>\n",
       "      <td>0.000000</td>\n",
       "    </tr>\n",
       "    <tr>\n",
       "      <th>2010-11-26 19:00:00</th>\n",
       "      <td>1.659333</td>\n",
       "      <td>0.060033</td>\n",
       "      <td>236.741000</td>\n",
       "      <td>7.056667</td>\n",
       "      <td>0.0</td>\n",
       "      <td>0.066667</td>\n",
       "      <td>0.000000</td>\n",
       "    </tr>\n",
       "    <tr>\n",
       "      <th>2010-11-26 20:00:00</th>\n",
       "      <td>1.163700</td>\n",
       "      <td>0.061167</td>\n",
       "      <td>239.396000</td>\n",
       "      <td>4.913333</td>\n",
       "      <td>0.0</td>\n",
       "      <td>1.066667</td>\n",
       "      <td>0.000000</td>\n",
       "    </tr>\n",
       "    <tr>\n",
       "      <th>2010-11-26 21:00:00</th>\n",
       "      <td>0.934667</td>\n",
       "      <td>0.000000</td>\n",
       "      <td>239.690000</td>\n",
       "      <td>3.800000</td>\n",
       "      <td>0.0</td>\n",
       "      <td>0.000000</td>\n",
       "      <td>0.000000</td>\n",
       "    </tr>\n",
       "  </tbody>\n",
       "</table>\n",
       "<p>34589 rows × 7 columns</p>\n",
       "</div>"
      ],
      "text/plain": [
       "                     global_active_power  global_reactive_power     voltage  \\\n",
       "date_hour                                                                     \n",
       "2006-12-16 17:00:00             4.222889               0.229000  234.643889   \n",
       "2006-12-16 18:00:00             3.632200               0.080033  234.580167   \n",
       "2006-12-16 19:00:00             3.400233               0.085233  233.232500   \n",
       "2006-12-16 20:00:00             3.268567               0.075100  234.071500   \n",
       "2006-12-16 21:00:00             3.056467               0.076667  237.158667   \n",
       "...                                  ...                    ...         ...   \n",
       "2010-11-26 17:00:00             1.725900               0.061400  237.069667   \n",
       "2010-11-26 18:00:00             1.573467               0.053700  237.531833   \n",
       "2010-11-26 19:00:00             1.659333               0.060033  236.741000   \n",
       "2010-11-26 20:00:00             1.163700               0.061167  239.396000   \n",
       "2010-11-26 21:00:00             0.934667               0.000000  239.690000   \n",
       "\n",
       "                     vlobal_intensity  sub_metering_1  sub_metering_2  \\\n",
       "date_hour                                                               \n",
       "2006-12-16 17:00:00         18.100000             0.0        0.527778   \n",
       "2006-12-16 18:00:00         15.600000             0.0        6.716667   \n",
       "2006-12-16 19:00:00         14.503333             0.0        1.433333   \n",
       "2006-12-16 20:00:00         13.916667             0.0        0.000000   \n",
       "2006-12-16 21:00:00         13.046667             0.0        0.416667   \n",
       "...                               ...             ...             ...   \n",
       "2010-11-26 17:00:00          7.216667             0.0        0.000000   \n",
       "2010-11-26 18:00:00          6.620000             0.0        0.000000   \n",
       "2010-11-26 19:00:00          7.056667             0.0        0.066667   \n",
       "2010-11-26 20:00:00          4.913333             0.0        1.066667   \n",
       "2010-11-26 21:00:00          3.800000             0.0        0.000000   \n",
       "\n",
       "                     sub_metering_3  \n",
       "date_hour                            \n",
       "2006-12-16 17:00:00       16.861111  \n",
       "2006-12-16 18:00:00       16.866667  \n",
       "2006-12-16 19:00:00       16.683333  \n",
       "2006-12-16 20:00:00       16.783333  \n",
       "2006-12-16 21:00:00       17.216667  \n",
       "...                             ...  \n",
       "2010-11-26 17:00:00       12.866667  \n",
       "2010-11-26 18:00:00        0.000000  \n",
       "2010-11-26 19:00:00        0.000000  \n",
       "2010-11-26 20:00:00        0.000000  \n",
       "2010-11-26 21:00:00        0.000000  \n",
       "\n",
       "[34589 rows x 7 columns]"
      ]
     },
     "execution_count": 55,
     "metadata": {},
     "output_type": "execute_result"
    }
   ],
   "source": [
    "# Completar aquí\n",
    "\n",
    "# --------------------\n",
    "vivienda"
   ]
  },
  {
   "cell_type": "markdown",
   "metadata": {},
   "source": [
    "Calculamos ahora `resumen_horario_dia`."
   ]
  },
  {
   "cell_type": "code",
   "execution_count": 56,
   "metadata": {},
   "outputs": [
    {
     "ename": "NameError",
     "evalue": "name 'resumen_horario_dia' is not defined",
     "output_type": "error",
     "traceback": [
      "\u001b[31m---------------------------------------------------------------------------\u001b[39m",
      "\u001b[31mNameError\u001b[39m                                 Traceback (most recent call last)",
      "\u001b[36mCell\u001b[39m\u001b[36m \u001b[39m\u001b[32mIn[56]\u001b[39m\u001b[32m, line 4\u001b[39m\n\u001b[32m      1\u001b[39m \u001b[38;5;66;03m# Completar aquí\u001b[39;00m\n\u001b[32m      2\u001b[39m \n\u001b[32m      3\u001b[39m \u001b[38;5;66;03m# --------------------\u001b[39;00m\n\u001b[32m----> \u001b[39m\u001b[32m4\u001b[39m \u001b[43mresumen_horario_dia\u001b[49m\n",
      "\u001b[31mNameError\u001b[39m: name 'resumen_horario_dia' is not defined"
     ]
    }
   ],
   "source": [
    "# Completar aquí\n",
    "\n",
    "# --------------------\n",
    "resumen_horario_dia"
   ]
  },
  {
   "cell_type": "markdown",
   "metadata": {},
   "source": [
    "Aplicamos el método `reset_index` (referencia: [enlace](https://pandas.pydata.org/pandas-docs/stable/reference/api/pandas.DataFrame.reset_index.html)) a `resumen_horario_dia`, para que el índice multinivel resultado de groupby dé lugar a dos columnas que correspondan a día de la semana y a hora del día. "
   ]
  },
  {
   "cell_type": "code",
   "execution_count": null,
   "metadata": {},
   "outputs": [],
   "source": [
    "# Completar aquí\n",
    "\n",
    "# --------------------\n",
    "resumen_horario_dia"
   ]
  },
  {
   "cell_type": "markdown",
   "metadata": {},
   "source": [
    "Procedemos a la representación gráfica"
   ]
  },
  {
   "cell_type": "code",
   "execution_count": null,
   "metadata": {},
   "outputs": [],
   "source": [
    "# Completar aquí\n",
    "\n",
    "# --------------------"
   ]
  },
  {
   "cell_type": "markdown",
   "metadata": {},
   "source": [
    "Qué conclusión sacáis sobre el patrón de consumo de la familia según lso días de la semana?"
   ]
  }
 ],
 "metadata": {
  "kernelspec": {
   "display_name": "Python 3 (ipykernel)",
   "language": "python",
   "name": "python3"
  },
  "language_info": {
   "codemirror_mode": {
    "name": "ipython",
    "version": 3
   },
   "file_extension": ".py",
   "mimetype": "text/x-python",
   "name": "python",
   "nbconvert_exporter": "python",
   "pygments_lexer": "ipython3",
   "version": "3.12.3"
  }
 },
 "nbformat": 4,
 "nbformat_minor": 4
}
